{
  "nbformat": 4,
  "nbformat_minor": 0,
  "metadata": {
    "colab": {
      "provenance": [],
      "authorship_tag": "ABX9TyMh31/ceHTmSO/0ahkUovrF",
      "include_colab_link": true
    },
    "kernelspec": {
      "name": "python3",
      "display_name": "Python 3"
    },
    "language_info": {
      "name": "python"
    }
  },
  "cells": [
    {
      "cell_type": "markdown",
      "metadata": {
        "id": "view-in-github",
        "colab_type": "text"
      },
      "source": [
        "<a href=\"https://colab.research.google.com/github/JuanManueArenas/ejercicios_for/blob/main/Ejercicios_for.ipynb\" target=\"_parent\"><img src=\"https://colab.research.google.com/assets/colab-badge.svg\" alt=\"Open In Colab\"/></a>"
      ]
    },
    {
      "cell_type": "code",
      "execution_count": null,
      "metadata": {
        "id": "6oFE66p3qakK"
      },
      "outputs": [],
      "source": []
    },
    {
      "cell_type": "markdown",
      "source": [
        "# INSTRUCCION REPETITIVA FOR\n"
      ],
      "metadata": {
        "id": "No_XWfrkq_re"
      }
    },
    {
      "cell_type": "code",
      "source": [
        "#Ejercicio 1: mostrar los numeros del 1 al 10, sin usar intrucciones repetitivas\n",
        "\n",
        "print(1)\n",
        "print(2)\n",
        "print(3)\n",
        "print(4)\n",
        "print(5)\n",
        "print(6)\n",
        "print(7)\n",
        "print(8)\n",
        "print(9)\n",
        "print(10)\n",
        "\n"
      ],
      "metadata": {
        "id": "SvHGVuzXrO5d"
      },
      "execution_count": null,
      "outputs": []
    },
    {
      "cell_type": "code",
      "source": [
        "#Ejercicio 2: mostrar los numeros del 1 al 10 utilizando instrucciones repetitivas\n",
        "\n",
        "contador = 1\n",
        "print(contador)\n",
        "while contador <10:\n",
        "  #contador = contador + 1\n",
        "  contador += 1\n",
        "  print(contador)"
      ],
      "metadata": {
        "id": "XVzP4Wv6tdBY"
      },
      "execution_count": null,
      "outputs": []
    },
    {
      "cell_type": "code",
      "source": [
        "#Ejercicio 3: mostrar los numeros del 1 al 10 utilizando la instruccion for y una lista como iterable\n",
        "\n",
        "lista = [1,2,3,4,5,6,7,8,9,10]\n",
        "for i in lista:\n",
        "  print(i)"
      ],
      "metadata": {
        "id": "KZ6oElRYvOis"
      },
      "execution_count": null,
      "outputs": []
    },
    {
      "cell_type": "code",
      "source": [
        "#Ejercicio 4: mostrar los numeros del 1 al 10, usando la instruccion for y la funcion range\n",
        "\n",
        "for i in range(1,11):\n",
        "  print(i)"
      ],
      "metadata": {
        "id": "7tfM-jOKwxjC"
      },
      "execution_count": null,
      "outputs": []
    },
    {
      "cell_type": "code",
      "source": [
        "#Ejercicio 5: mostrar una frase 10 veces, usando la instruccion for y una lista\n",
        "\n",
        "lista = [1,2,3,4,5,6,7,8,9,10]\n",
        "for i in lista:\n",
        "  print(f\"{i} Sistemas, la mejor \")"
      ],
      "metadata": {
        "id": "j73wb3IDxod-"
      },
      "execution_count": null,
      "outputs": []
    },
    {
      "cell_type": "code",
      "source": [
        "#Ejercicio 6: mostrar  la silaba unicial de los dias de la semana, usando for y una lista inicial de los dias\n",
        "\n",
        "dias_semana = [\"lu\", \"ma\", \"mi\", \"ju\", \"vi\", \"sa\", \"do\"]  \n",
        "for i in  dias_semana:\n",
        "  print(i)\n"
      ],
      "metadata": {
        "colab": {
          "base_uri": "https://localhost:8080/"
        },
        "id": "2JzkVlN1yrFh",
        "outputId": "05d34bd5-9802-4781-e989-c1890f73c7e4"
      },
      "execution_count": 32,
      "outputs": [
        {
          "output_type": "stream",
          "name": "stdout",
          "text": [
            "lu\n",
            "ma\n",
            "mi\n",
            "ju\n",
            "vi\n",
            "sa\n",
            "do\n"
          ]
        }
      ]
    },
    {
      "cell_type": "code",
      "source": [
        "from re import I\n",
        "#Ejercicio 7: mostrar una lista de distintos tipos de datos, usando for\n",
        "\n",
        "lista = [1, 3, 4, 9, True, \"nestor\", 8, \"Guanenta\"]\n",
        "for i in lista:\n",
        "  print(i)"
      ],
      "metadata": {
        "id": "DjLCRhzJzr_N"
      },
      "execution_count": null,
      "outputs": []
    },
    {
      "cell_type": "code",
      "source": [
        "#Ejercicio 8: ingresar su nombre  y mostrarlo letra a letra, usando for\n",
        "nombre = input(\"Digite su nombre: \")\n",
        "for letra in nombre:\n",
        "  print(letra) "
      ],
      "metadata": {
        "id": "aSVzEmtb0Nx1"
      },
      "execution_count": null,
      "outputs": []
    },
    {
      "cell_type": "code",
      "source": [
        "#Ejercicio 9: ingresar su nombre y mostrarlo letra a letra, usando for cambiando por asterisco * a la vocal e\n",
        "\n",
        "nombre = input(\"Digite su nobre: \") \n",
        "for letra in nombre: \n",
        "  if letra == \"e\":\n",
        "    print(\"*\")\n",
        "  else:\n",
        "    print(letra)"
      ],
      "metadata": {
        "id": "VcMwKsvw0_Vd"
      },
      "execution_count": null,
      "outputs": []
    },
    {
      "cell_type": "code",
      "source": [
        "#Ejercicio 10: ingresar su nombre y mostrarlo letra por letra, en mayuscula usando for.\n",
        "\n",
        "nombre = input(\"Digite su nombre: \")\n",
        "for letra in nombre:\n",
        "  print(letra.upper())"
      ],
      "metadata": {
        "id": "3me2KA9pAAwq"
      },
      "execution_count": null,
      "outputs": []
    },
    {
      "cell_type": "code",
      "source": [
        "#Ejercicio 11: imprimir listas de numeros usando for y range \n",
        "\n",
        "print(\"Numeros del 0 al 9\")\n",
        "for i in range(10):\n",
        "  print(i)\n",
        "\n",
        "print(\"Numeros del 1 al 11\")\n",
        "for i in range(10):\n",
        "  print(i)\n",
        "\n",
        "print(\"10 veces la frase\")\n",
        "for i in  range(10):\n",
        "  print(\"sistemas el mejor \")\n",
        "\n",
        "print(\"10 veces  la frase i = \")\n",
        "for i in range(10):\n",
        "  print(\"i = \" + str(i))\n",
        "\n",
        "print(\"10 veces la frase i = \")\n",
        "for i in range (10):\n",
        "  print(f\" i = {i}\")\n",
        "\n",
        "print(\"Rango del 7 al 18 , incrementando de 4 en 4\")\n",
        "for i in range(7,19,4):\n",
        "  print(i)\n",
        "\n",
        "print(\"Convierte rango  en lista a, y la muestra\")\n",
        "a = list(range(1000))\n",
        "print(a)\n",
        "\n"
      ],
      "metadata": {
        "id": "bO-GWIY0Apjz"
      },
      "execution_count": null,
      "outputs": []
    },
    {
      "cell_type": "markdown",
      "source": [
        "# Ejercicios \n",
        "1. Dada  la siguiente lista de numeros, [20, 21, 30, 41, 50, 51, 201] mostrar  en pantalla solo los que NO terminan en 1\n",
        "\n",
        "2. mostrar 1000 veces la palabra \"Programacion\"\n",
        "\n",
        "3. Del conjunto de cadenas [\"E\", \"F\", \"M\", \"A\"] que corresponden a las iniciales de los primeros cuatro meses del año, mostrar el nombre completo de dichos meses\n",
        "\n",
        "4. Leer un texto y determinar cuantas veces dicho texto contiene cada una de las vocales en minuscula y/o mayuscula\n"
      ],
      "metadata": {
        "id": "FZnyk5qvGoau"
      }
    },
    {
      "cell_type": "code",
      "source": [
        "# Ejercicio 1\n",
        "\n",
        "numeros = [20, 21, 30, 41, 50, 51, 201]\n",
        "\n",
        "for i in numeros:\n",
        "    if i % 10 == 0:\n",
        "        print(i)\n"
      ],
      "metadata": {
        "id": "kOLh1cCcHvWu"
      },
      "execution_count": null,
      "outputs": []
    },
    {
      "cell_type": "code",
      "source": [
        "# Ejercicio 2\n",
        "\n",
        "for i in range(1000):\n",
        "    print(\"Programacion\")\n"
      ],
      "metadata": {
        "id": "Zaa_g60eKpgH"
      },
      "execution_count": null,
      "outputs": []
    },
    {
      "cell_type": "code",
      "source": [
        "# Ejercicio 3\n",
        "\n",
        "iniciales = [\"E\", \"F\", \"M\", \"A\"]\n",
        "\n",
        "meses = {\"E\": \"Enero\",\"F\": \"Febrero\",\"M\": \"Marzo\",\"A\": \"Abril\"}\n",
        "\n",
        "for i in iniciales:\n",
        "    mes = meses[i]\n",
        "    print(mes)\n",
        "\n"
      ],
      "metadata": {
        "id": "T9P8mEVfLihF"
      },
      "execution_count": null,
      "outputs": []
    },
    {
      "cell_type": "code",
      "source": [
        "# Ejercicio 4\n",
        "\n",
        "texto = (\"Este es un ejemplo de texto para contar las vocales\")\n",
        "texto = texto.lower()  \n",
        "\n",
        "vocales = [\"a\", \"e\", \"i\", \"o\", \"u\"]\n",
        "contadores = {v: 0 for v in vocales}  \n",
        "\n",
        "for letra in texto:\n",
        "    if letra in vocales:\n",
        "        contadores[letra] += 1\n",
        "for v in vocales:\n",
        "    print(f\"{v}: {contadores[v]}\")"
      ],
      "metadata": {
        "id": "-NGOKp9gN4xX"
      },
      "execution_count": null,
      "outputs": []
    }
  ]
}